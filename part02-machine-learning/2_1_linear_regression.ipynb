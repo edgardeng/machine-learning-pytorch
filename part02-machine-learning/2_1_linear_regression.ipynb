{
 "cells": [
  {
   "cell_type": "markdown",
   "metadata": {
    "collapsed": true,
    "pycharm": {
     "name": "#%% md\n"
    }
   },
   "source": [
    "# 线性回归模型\n",
    "\n",
    "线性回归就是一个不加激活函数的全连接层"
   ]
  },
  {
   "cell_type": "code",
   "execution_count": null,
   "outputs": [],
   "source": [
    "# 准备数据\n",
    "import numpy as np\n",
    "x_train = np.random.random((11,1))\n",
    "y_train = x_train * 3 + (np.random.random((11,1)) -0.5) * 0.001\n",
    "x_train = np.array(x_train,dtype=np.float32)\n",
    "y_train = np.array(y_train,dtype=np.float32)\n",
    "# x_train.dtype = np.float32\n",
    "\n",
    "print(x_train.dtype, x_train)\n",
    "print(y_train.dtype, y_train)"
   ],
   "metadata": {
    "collapsed": false,
    "pycharm": {
     "name": "#%%\n"
    }
   }
  },
  {
   "cell_type": "code",
   "execution_count": null,
   "outputs": [],
   "source": [
    "import torch\n",
    "import torch.nn as nn"
   ],
   "metadata": {
    "collapsed": false,
    "pycharm": {
     "name": "#%%\n"
    }
   }
  },
  {
   "cell_type": "code",
   "execution_count": null,
   "outputs": [],
   "source": [
    "class LinearRegressionNet(nn.Module):\n",
    "    def __init__(self,input_dim, output_dim):\n",
    "        super(LinearRegressionNet, self).__init__()\n",
    "        self.linear = nn.Linear(input_dim, output_dim)\n",
    "    def forward(self,x):\n",
    "        x = self.linear(x)\n",
    "        return x\n"
   ],
   "metadata": {
    "collapsed": false,
    "pycharm": {
     "name": "#%%\n"
    }
   }
  },
  {
   "cell_type": "code",
   "execution_count": null,
   "outputs": [],
   "source": [
    "net = LinearRegressionNet(1, 1)\n",
    "print(net)\n"
   ],
   "metadata": {
    "collapsed": false,
    "pycharm": {
     "name": "#%%\n"
    }
   }
  },
  {
   "cell_type": "code",
   "execution_count": null,
   "outputs": [],
   "source": [
    "epochs = 1000\n",
    "lr = 0.01\n",
    "optimizer = torch.optim.SGD(net.parameters(), lr=lr)\n",
    "criterion = nn.MSELoss() # 使用MSE损失函数\n",
    "\n",
    "for epoch in range(epochs):\n",
    "    inputs = torch.from_numpy(x_train)\n",
    "    labels = torch.from_numpy(y_train)\n",
    "    optimizer.zero_grad() # 梯度清0\n",
    "    output = net(inputs)\n",
    "    loss = criterion(output,labels)\n",
    "    loss.backward() # 反向传播\n",
    "    optimizer.step() # 更新权重 (基于学习率和梯度)\n",
    "    if epoch % 50 == 0:\n",
    "        print(f'epoch:{epoch}, loss:{loss.item()}')\n"
   ],
   "metadata": {
    "collapsed": false,
    "pycharm": {
     "name": "#%%\n"
    }
   }
  },
  {
   "cell_type": "code",
   "execution_count": null,
   "outputs": [],
   "source": [
    "# 预测\n",
    "test_data = torch.from_numpy(x_train).requires_grad_()\n",
    "print(test_data)\n",
    "pred = net(test_data).data.numpy()\n",
    "print(pred)\n"
   ],
   "metadata": {
    "collapsed": false,
    "pycharm": {
     "name": "#%%\n"
    }
   }
  },
  {
   "cell_type": "code",
   "execution_count": null,
   "outputs": [],
   "source": [
    "# 使用GPU训练\n",
    "device = torch.device('cuda:0' if torch.cuda.is_available() else 'cpu')\n",
    "net.to(device) # 模型传入gpu\n",
    "# 数据传入\n",
    "inputs = torch.from_numpy(x_train).to(device)\n",
    "labels = torch.from_numpy(y_train).to(device)"
   ],
   "metadata": {
    "collapsed": false,
    "pycharm": {
     "name": "#%%\n"
    }
   }
  }
 ],
 "metadata": {
  "kernelspec": {
   "display_name": "Python 3",
   "language": "python",
   "name": "python3"
  },
  "language_info": {
   "codemirror_mode": {
    "name": "ipython",
    "version": 2
   },
   "file_extension": ".py",
   "mimetype": "text/x-python",
   "name": "python",
   "nbconvert_exporter": "python",
   "pygments_lexer": "ipython2",
   "version": "2.7.6"
  }
 },
 "nbformat": 4,
 "nbformat_minor": 0
}