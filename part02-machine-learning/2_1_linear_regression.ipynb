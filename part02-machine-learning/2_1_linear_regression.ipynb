{
 "cells": [
  {
   "cell_type": "markdown",
   "source": [
    "# 线性回归\n",
    "\n",
    "## 使用Numpy完成线性回归\n",
    "> https://github.com/fengdu78/WZU-machine-learning-course/tree/main/code/lesson2-code\n",
    "\n",
    "### 单变量线性回归\n"
   ],
   "metadata": {
    "collapsed": false
   }
  },
  {
   "cell_type": "code",
   "execution_count": 10,
   "outputs": [],
   "source": [
    "import numpy as np\n",
    "import pandas as pd\n",
    "import matplotlib.pyplot as plt\n",
    "plt.rcParams['font.sans-serif']=['SimHei'] #用来正常显示中文标签\n",
    "plt.rcParams['axes.unicode_minus']=False #用来正常显示负号"
   ],
   "metadata": {
    "collapsed": false,
    "pycharm": {
     "name": "#%%\n"
    }
   }
  },
  {
   "cell_type": "code",
   "execution_count": 17,
   "outputs": [],
   "source": [
    "# 准备数据\n",
    "SIZE = 100\n",
    "# x_train = np.random.random((SIZE,1))\n",
    "# y_train = x_train * 3 + (np.random.random((SIZE,1)) -0.5) * 0.001\n",
    "data = pd.DataFrame(np.random.random((SIZE, 2)), columns=['X',\"Y\"])\n",
    "data['Y'] =  data['X'] * 3 + (np.random.random() -0.5) * 0.1"
   ],
   "metadata": {
    "collapsed": false,
    "pycharm": {
     "name": "#%%\n"
    }
   }
  },
  {
   "cell_type": "code",
   "execution_count": null,
   "outputs": [],
   "source": [
    "# 读取数据\n",
    "path = 'data/regress_data1.csv'\n",
    "data = pd.read_csv(path)\n",
    "data.head()"
   ],
   "metadata": {
    "collapsed": false,
    "pycharm": {
     "name": "#%%\n"
    }
   }
  },
  {
   "cell_type": "code",
   "execution_count": 13,
   "outputs": [
    {
     "data": {
      "text/plain": "               X          Y\ncount  50.000000  50.000000\nmean    0.502827   1.513401\nstd     0.311373   0.934118\nmin     0.001129   0.008305\n25%     0.237821   0.718381\n50%     0.504825   1.519394\n75%     0.801462   2.409304\nmax     0.986504   2.964431",
      "text/html": "<div>\n<style scoped>\n    .dataframe tbody tr th:only-of-type {\n        vertical-align: middle;\n    }\n\n    .dataframe tbody tr th {\n        vertical-align: top;\n    }\n\n    .dataframe thead th {\n        text-align: right;\n    }\n</style>\n<table border=\"1\" class=\"dataframe\">\n  <thead>\n    <tr style=\"text-align: right;\">\n      <th></th>\n      <th>X</th>\n      <th>Y</th>\n    </tr>\n  </thead>\n  <tbody>\n    <tr>\n      <th>count</th>\n      <td>50.000000</td>\n      <td>50.000000</td>\n    </tr>\n    <tr>\n      <th>mean</th>\n      <td>0.502827</td>\n      <td>1.513401</td>\n    </tr>\n    <tr>\n      <th>std</th>\n      <td>0.311373</td>\n      <td>0.934118</td>\n    </tr>\n    <tr>\n      <th>min</th>\n      <td>0.001129</td>\n      <td>0.008305</td>\n    </tr>\n    <tr>\n      <th>25%</th>\n      <td>0.237821</td>\n      <td>0.718381</td>\n    </tr>\n    <tr>\n      <th>50%</th>\n      <td>0.504825</td>\n      <td>1.519394</td>\n    </tr>\n    <tr>\n      <th>75%</th>\n      <td>0.801462</td>\n      <td>2.409304</td>\n    </tr>\n    <tr>\n      <th>max</th>\n      <td>0.986504</td>\n      <td>2.964431</td>\n    </tr>\n  </tbody>\n</table>\n</div>"
     },
     "execution_count": 13,
     "metadata": {},
     "output_type": "execute_result"
    }
   ],
   "source": [
    "data.describe()"
   ],
   "metadata": {
    "collapsed": false,
    "pycharm": {
     "name": "#%%\n"
    }
   }
  },
  {
   "cell_type": "markdown",
   "source": [
    "使用matplotlib 看下数据长什么样子"
   ],
   "metadata": {
    "collapsed": false
   }
  },
  {
   "cell_type": "code",
   "execution_count": 18,
   "outputs": [
    {
     "data": {
      "text/plain": "<Figure size 864x576 with 1 Axes>",
      "image/png": "[encoded data removed]"
     },
     "metadata": {
      "needs_background": "light"
     },
     "output_type": "display_data"
    }
   ],
   "source": [
    "data.plot(kind='scatter', x='X', y='Y', figsize=(12,8))\n",
    "plt.xlabel('X', fontsize=18)\n",
    "plt.ylabel('Y', rotation=0, fontsize=18)\n",
    "plt.show()"
   ],
   "metadata": {
    "collapsed": false,
    "pycharm": {
     "name": "#%%\n"
    }
   }
  },
  {
   "cell_type": "markdown",
   "source": [
    "现在让我们使用梯度下降来实现线性回归，以最小化代价函数。"
   ],
   "metadata": {
    "collapsed": false
   }
  },
  {
   "cell_type": "markdown",
   "source": [
    "首先，我们将创建一个以参数$w$为特征函数的代价函数\n",
    "\n",
    "$$J\\left( w  \\right)=\\frac{1}{2m}\\sum\\limits_{i=1}^{m}{{{\\left( {{h}}\\left( {{x}^{(i)}} \\right)-{{y}^{(i)}} \\right)}^{2}}}$$\n",
    "\n",
    "其中：\\\\[{{h}}\\left( x \\right)={{w}^{T}}X={{w }_{0}}{{x}_{0}}+{{w }_{1}}{{x}_{1}}+{{w }_{2}}{{x}_{2}}+...+{{w }_{n}}{{x}_{n}}\\\\]"
   ],
   "metadata": {
    "collapsed": false
   }
  },
  {
   "cell_type": "code",
   "execution_count": 25,
   "outputs": [],
   "source": [
    "def compute_cost(X, y, w):\n",
    "    inner = np.power(((X * w.T) - y), 2)# (m,n) @ (n, 1) -> (n, 1)\n",
    "#     return np.sum(inner) / (2 * len(X))\n",
    "    return np.sum(inner) / (2 * X.shape[0])"
   ],
   "metadata": {
    "collapsed": false,
    "pycharm": {
     "name": "#%%\n"
    }
   }
  },
  {
   "cell_type": "markdown",
   "source": [
    "让我们在训练集中添加一列，以便我们可以使用向量化的解决方案来计算代价和梯度。"
   ],
   "metadata": {
    "collapsed": false
   }
  },
  {
   "cell_type": "code",
   "execution_count": 20,
   "outputs": [
    {
     "name": "stdout",
     "output_type": "stream",
     "text": [
      "   Ones         X         Y\n",
      "0     1  0.809773  2.422526\n",
      "1     1  0.913342  2.733234\n",
      "2     1  0.192700  0.571307\n",
      "3     1  0.836752  2.503464\n",
      "4     1  0.890153  2.663667\n"
     ]
    }
   ],
   "source": [
    "data.insert(0, 'Ones', 1)\n",
    "print(data.head())"
   ],
   "metadata": {
    "collapsed": false,
    "pycharm": {
     "name": "#%%\n"
    }
   }
  },
  {
   "cell_type": "markdown",
   "source": [
    "现在我们来做一些变量初始化。"
   ],
   "metadata": {
    "collapsed": false
   }
  },
  {
   "cell_type": "code",
   "execution_count": 27,
   "outputs": [],
   "source": [
    "# set X (training data) and y (target variable)\n",
    "cols = data.shape[1]\n",
    "X = data.iloc[:,:cols-1]#X是所有行，去掉最后一列\n",
    "y = data.iloc[:,cols-1:]#X是所有行，最后一列"
   ],
   "metadata": {
    "collapsed": false,
    "pycharm": {
     "name": "#%%\n"
    }
   }
  },
  {
   "cell_type": "code",
   "execution_count": 28,
   "outputs": [
    {
     "data": {
      "text/plain": "   Ones         X\n0     1  0.809773\n1     1  0.913342\n2     1  0.192700\n3     1  0.836752\n4     1  0.890153",
      "text/html": "<div>\n<style scoped>\n    .dataframe tbody tr th:only-of-type {\n        vertical-align: middle;\n    }\n\n    .dataframe tbody tr th {\n        vertical-align: top;\n    }\n\n    .dataframe thead th {\n        text-align: right;\n    }\n</style>\n<table border=\"1\" class=\"dataframe\">\n  <thead>\n    <tr style=\"text-align: right;\">\n      <th></th>\n      <th>Ones</th>\n      <th>X</th>\n    </tr>\n  </thead>\n  <tbody>\n    <tr>\n      <th>0</th>\n      <td>1</td>\n      <td>0.809773</td>\n    </tr>\n    <tr>\n      <th>1</th>\n      <td>1</td>\n      <td>0.913342</td>\n    </tr>\n    <tr>\n      <th>2</th>\n      <td>1</td>\n      <td>0.192700</td>\n    </tr>\n    <tr>\n      <th>3</th>\n      <td>1</td>\n      <td>0.836752</td>\n    </tr>\n    <tr>\n      <th>4</th>\n      <td>1</td>\n      <td>0.890153</td>\n    </tr>\n  </tbody>\n</table>\n</div>"
     },
     "execution_count": 28,
     "metadata": {},
     "output_type": "execute_result"
    }
   ],
   "source": [
    "X.head()"
   ],
   "metadata": {
    "collapsed": false,
    "pycharm": {
     "name": "#%%\n"
    }
   }
  },
  {
   "cell_type": "code",
   "execution_count": 29,
   "outputs": [
    {
     "data": {
      "text/plain": "          Y\n0  2.422526\n1  2.733234\n2  0.571307\n3  2.503464\n4  2.663667",
      "text/html": "<div>\n<style scoped>\n    .dataframe tbody tr th:only-of-type {\n        vertical-align: middle;\n    }\n\n    .dataframe tbody tr th {\n        vertical-align: top;\n    }\n\n    .dataframe thead th {\n        text-align: right;\n    }\n</style>\n<table border=\"1\" class=\"dataframe\">\n  <thead>\n    <tr style=\"text-align: right;\">\n      <th></th>\n      <th>Y</th>\n    </tr>\n  </thead>\n  <tbody>\n    <tr>\n      <th>0</th>\n      <td>2.422526</td>\n    </tr>\n    <tr>\n      <th>1</th>\n      <td>2.733234</td>\n    </tr>\n    <tr>\n      <th>2</th>\n      <td>0.571307</td>\n    </tr>\n    <tr>\n      <th>3</th>\n      <td>2.503464</td>\n    </tr>\n    <tr>\n      <th>4</th>\n      <td>2.663667</td>\n    </tr>\n  </tbody>\n</table>\n</div>"
     },
     "execution_count": 29,
     "metadata": {},
     "output_type": "execute_result"
    }
   ],
   "source": [
    "y.head()"
   ],
   "metadata": {
    "collapsed": false,
    "pycharm": {
     "name": "#%%\n"
    }
   }
  },
  {
   "cell_type": "markdown",
   "source": [
    "代价函数是应该是numpy矩阵，所以我们需要转换X和Y，然后才能使用它们。 我们还需要初始化w。"
   ],
   "metadata": {
    "collapsed": false
   }
  },
  {
   "cell_type": "code",
   "execution_count": 30,
   "outputs": [
    {
     "name": "stdout",
     "output_type": "stream",
     "text": [
      "[[0 0]]\n"
     ]
    }
   ],
   "source": [
    "X = np.matrix(X.values)\n",
    "y = np.matrix(y.values)\n",
    "w = np.matrix(np.array([0,0]))\n",
    "print(w) # w 是一个(1,2)矩阵"
   ],
   "metadata": {
    "collapsed": false,
    "pycharm": {
     "name": "#%%\n"
    }
   }
  },
  {
   "cell_type": "code",
   "execution_count": 31,
   "outputs": [
    {
     "name": "stdout",
     "output_type": "stream",
     "text": [
      "(100, 2) (1, 2) (100, 1)\n"
     ]
    }
   ],
   "source": [
    "print(X.shape, w.shape, y.shape)"
   ],
   "metadata": {
    "collapsed": false,
    "pycharm": {
     "name": "#%%\n"
    }
   }
  },
  {
   "cell_type": "markdown",
   "source": [
    "计算代价函数 (theta初始值为0)."
   ],
   "metadata": {
    "collapsed": false
   }
  },
  {
   "cell_type": "code",
   "execution_count": 32,
   "outputs": [
    {
     "name": "stdout",
     "output_type": "stream",
     "text": [
      "初始参数下的代价值 1.4880983086305348\n"
     ]
    }
   ],
   "source": [
    "cost = compute_cost(X, y, w)\n",
    "print('初始参数下的代价值', cost)"
   ],
   "metadata": {
    "collapsed": false,
    "pycharm": {
     "name": "#%%\n"
    }
   }
  },
  {
   "cell_type": "markdown",
   "source": [
    "# Batch Gradient Decent（批量梯度下降）\n",
    "\n",
    "$${{w }_{j}}:={{w }_{j}}- \\alpha \\frac{1}{m}\\sum\\limits_{i=1}^m \\frac{\\partial }{\\partial {{w}_{j}}}J\\left( w \\right)$$"
   ],
   "metadata": {
    "collapsed": false
   }
  },
  {
   "cell_type": "code",
   "execution_count": 36,
   "outputs": [],
   "source": [
    "def batch_gradient_descent(X, y, w, alpha, iters):\n",
    "    temp = np.matrix(np.zeros(w.shape))\n",
    "    parameters = int(w.ravel().shape[1])\n",
    "    cost = np.zeros(iters)\n",
    "\n",
    "    for i in range(iters):\n",
    "        error = (X * w.T) - y\n",
    "\n",
    "        for j in range(parameters):\n",
    "            term = np.multiply(error, X[:, j])\n",
    "            temp[0, j] = w[0, j] - ((alpha / len(X)) * np.sum(term))\n",
    "\n",
    "        w = temp\n",
    "        cost[i] = compute_cost(X, y, w)\n",
    "\n",
    "    return w, cost"
   ],
   "metadata": {
    "collapsed": false,
    "pycharm": {
     "name": "#%%\n"
    }
   }
  },
  {
   "cell_type": "markdown",
   "source": [
    "初始化一些附加变量 - 学习速率α和要执行的迭代次数。"
   ],
   "metadata": {
    "collapsed": false
   }
  },
  {
   "cell_type": "code",
   "execution_count": 35,
   "outputs": [],
   "source": [
    "alpha = 0.01\n",
    "iters = 1000"
   ],
   "metadata": {
    "collapsed": false,
    "pycharm": {
     "name": "#%%\n"
    }
   }
  },
  {
   "cell_type": "code",
   "source": [
    "# 运行梯度下降算法来将我们的参数θ适合于训练集。\n",
    "g, cost = batch_gradient_descent(X, y, w, alpha, iters)\n",
    "# print(g, cost)\n",
    "print('训练后参数：', g)"
   ],
   "metadata": {
    "collapsed": false,
    "pycharm": {
     "name": "#%%\n"
    }
   },
   "execution_count": 37,
   "outputs": [
    {
     "name": "stdout",
     "output_type": "stream",
     "text": [
      "[[0.61853096 1.82565681]] [1.45646782 1.42562398 1.39554702 1.36621771 1.33761726 1.30972739\n",
      " 1.28253025 1.25600845 1.23014503 1.20492348 1.18032767 1.1563419\n",
      " 1.13295085 1.1101396  1.08789359 1.06619863 1.0450409  1.0244069\n",
      " 1.00428349 0.98465786 0.96551751 0.94685026 0.92864424 0.91088787\n",
      " 0.89356987 0.87667924 0.86020524 0.84413744 0.82846563 0.81317987\n",
      " 0.79827048 0.78372802 0.76954327 0.75570727 0.74221126 0.72904671\n",
      " 0.7162053  0.70367894 0.69145971 0.67953991 0.66791203 0.65656875\n",
      " 0.64550292 0.63470759 0.62417598 0.61390146 0.6038776  0.5940981\n",
      " 0.58455683 0.57524783 0.56616527 0.55730346 0.54865688 0.54022013\n",
      " 0.53198795 0.5239552  0.5161169  0.50846815 0.50100422 0.49372048\n",
      " 0.48661239 0.47967557 0.47290572 0.46629865 0.45985029 0.45355665\n",
      " 0.44741387 0.44141817 0.43556585 0.42985332 0.4242771  0.41883375\n",
      " 0.41351996 0.40833247 0.40326813 0.39832385 0.39349663 0.38878353\n",
      " 0.3841817  0.37968835 0.37530077 0.37101631 0.36683239 0.36274649\n",
      " 0.35875616 0.35485901 0.35105272 0.347335   0.34370364 0.34015648\n",
      " 0.33669142 0.3333064  0.32999942 0.32676854 0.32361184 0.32052749\n",
      " 0.31751365 0.31456859 0.31169057 0.30887793 0.30612903 0.30344227\n",
      " 0.30081612 0.29824905 0.29573959 0.2932863  0.29088778 0.28854266\n",
      " 0.28624962 0.28400735 0.28181459 0.27967011 0.27757269 0.27552117\n",
      " 0.2735144  0.27155127 0.26963069 0.26775161 0.26591298 0.26411381\n",
      " 0.2623531  0.26062991 0.2589433  0.25729236 0.25567621 0.25409397\n",
      " 0.25254481 0.2510279  0.24954244 0.24808766 0.24666279 0.24526709\n",
      " 0.24389983 0.24256032 0.24124785 0.23996177 0.23870141 0.23746615\n",
      " 0.23625536 0.23506843 0.23390477 0.23276381 0.23164498 0.23054775\n",
      " 0.22947157 0.22841593 0.22738032 0.22636424 0.22536722 0.22438878\n",
      " 0.22342847 0.22248583 0.22156044 0.22065187 0.21975971 0.21888354\n",
      " 0.21802299 0.21717766 0.21634719 0.2155312  0.21472935 0.21394129\n",
      " 0.21316667 0.21240517 0.21165648 0.21092027 0.21019624 0.20948409\n",
      " 0.20878355 0.20809431 0.20741611 0.20674867 0.20609174 0.20544507\n",
      " 0.20480839 0.20418148 0.20356408 0.20295598 0.20235694 0.20176676\n",
      " 0.20118521 0.20061208 0.20004717 0.19949029 0.19894125 0.19839984\n",
      " 0.1978659  0.19733923 0.19681967 0.19630705 0.1958012  0.19530196\n",
      " 0.19480917 0.19432267 0.19384233 0.19336798 0.1928995  0.19243673\n",
      " 0.19197955 0.19152783 0.19108143 0.19064022 0.1902041  0.18977293\n",
      " 0.1893466  0.188925   0.18850802 0.18809554 0.18768747 0.18728371\n",
      " 0.18688414 0.18648868 0.18609723 0.1857097  0.18532599 0.18494602\n",
      " 0.18456971 0.18419697 0.18382771 0.18346186 0.18309935 0.18274008\n",
      " 0.182384   0.18203103 0.1816811  0.18133414 0.18099009 0.18064888\n",
      " 0.18031044 0.17997471 0.17964165 0.17931117 0.17898324 0.17865779\n",
      " 0.17833476 0.17801411 0.17769579 0.17737974 0.17706591 0.17675425\n",
      " 0.17644473 0.17613729 0.17583189 0.17552848 0.17522703 0.17492749\n",
      " 0.17462982 0.17433398 0.17403994 0.17374765 0.17345708 0.1731682\n",
      " 0.17288097 0.17259536 0.17231133 0.17202885 0.17174789 0.17146843\n",
      " 0.17119042 0.17091384 0.17063867 0.17036487 0.17009242 0.16982129\n",
      " 0.16955146 0.1692829  0.16901559 0.1687495  0.16848461 0.1682209\n",
      " 0.16795834 0.16769692 0.16743661 0.1671774  0.16691926 0.16666217\n",
      " 0.16640611 0.16615107 0.16589703 0.16564397 0.16539187 0.16514072\n",
      " 0.1648905  0.16464119 0.16439278 0.16414525 0.16389859 0.16365279\n",
      " 0.16340782 0.16316368 0.16292036 0.16267783 0.16243609 0.16219513\n",
      " 0.16195493 0.16171547 0.16147676 0.16123877 0.1610015  0.16076494\n",
      " 0.16052907 0.16029389 0.16005938 0.15982554 0.15959235 0.15935981\n",
      " 0.15912791 0.15889663 0.15866598 0.15843594 0.1582065  0.15797765\n",
      " 0.1577494  0.15752172 0.15729461 0.15706807 0.15684209 0.15661666\n",
      " 0.15639178 0.15616743 0.15594361 0.15572032 0.15549754 0.15527528\n",
      " 0.15505353 0.15483228 0.15461152 0.15439125 0.15417147 0.15395216\n",
      " 0.15373334 0.15351498 0.15329708 0.15307965 0.15286266 0.15264613\n",
      " 0.15243005 0.15221441 0.15199921 0.15178443 0.15157009 0.15135618\n",
      " 0.15114268 0.15092961 0.15071694 0.15050469 0.15029285 0.15008141\n",
      " 0.14987037 0.14965972 0.14944947 0.14923961 0.14903014 0.14882106\n",
      " 0.14861235 0.14840402 0.14819607 0.1479885  0.14778129 0.14757445\n",
      " 0.14736798 0.14716186 0.14695611 0.14675072 0.14654568 0.146341\n",
      " 0.14613666 0.14593268 0.14572904 0.14552575 0.1453228  0.14512019\n",
      " 0.14491791 0.14471598 0.14451437 0.14431311 0.14411217 0.14391156\n",
      " 0.14371128 0.14351132 0.14331169 0.14311237 0.14291338 0.14271471\n",
      " 0.14251636 0.14231832 0.1421206  0.14192319 0.14172609 0.1415293\n",
      " 0.14133282 0.14113664 0.14094077 0.14074521 0.14054995 0.14035499\n",
      " 0.14016033 0.13996598 0.13977192 0.13957815 0.13938469 0.13919152\n",
      " 0.13899864 0.13880605 0.13861376 0.13842176 0.13823004 0.13803862\n",
      " 0.13784748 0.13765663 0.13746606 0.13727578 0.13708579 0.13689607\n",
      " 0.13670664 0.13651749 0.13632861 0.13614002 0.13595171 0.13576367\n",
      " 0.13557591 0.13538842 0.13520121 0.13501427 0.13482761 0.13464122\n",
      " 0.1344551  0.13426926 0.13408368 0.13389837 0.13371333 0.13352856\n",
      " 0.13334406 0.13315982 0.13297585 0.13279215 0.13260871 0.13242553\n",
      " 0.13224262 0.13205997 0.13187758 0.13169546 0.13151359 0.13133199\n",
      " 0.13115064 0.13096956 0.13078873 0.13060816 0.13042785 0.13024779\n",
      " 0.130068   0.12988845 0.12970916 0.12953013 0.12935135 0.12917283\n",
      " 0.12899455 0.12881653 0.12863876 0.12846125 0.12828398 0.12810697\n",
      " 0.1279302  0.12775368 0.12757742 0.1274014  0.12722563 0.1270501\n",
      " 0.12687483 0.1266998  0.12652501 0.12635047 0.12617618 0.12600213\n",
      " 0.12582833 0.12565477 0.12548145 0.12530838 0.12513555 0.12496296\n",
      " 0.12479061 0.1246185  0.12444664 0.12427501 0.12410363 0.12393248\n",
      " 0.12376157 0.1235909  0.12342047 0.12325028 0.12308033 0.12291061\n",
      " 0.12274113 0.12257188 0.12240288 0.1222341  0.12206556 0.12189726\n",
      " 0.12172919 0.12156136 0.12139375 0.12122639 0.12105925 0.12089235\n",
      " 0.12072568 0.12055924 0.12039303 0.12022705 0.1200613  0.11989579\n",
      " 0.1197305  0.11956544 0.11940062 0.11923602 0.11907165 0.1189075\n",
      " 0.11874359 0.1185799  0.11841644 0.11825321 0.1180902  0.11792742\n",
      " 0.11776486 0.11760253 0.11744042 0.11727854 0.11711688 0.11695545\n",
      " 0.11679424 0.11663325 0.11647249 0.11631195 0.11615163 0.11599153\n",
      " 0.11583166 0.11567201 0.11551257 0.11535336 0.11519437 0.1150356\n",
      " 0.11487704 0.11471871 0.1145606  0.1144027  0.11424502 0.11408756\n",
      " 0.11393032 0.1137733  0.11361649 0.1134599  0.11330352 0.11314737\n",
      " 0.11299142 0.1128357  0.11268019 0.11252489 0.11236981 0.11221494\n",
      " 0.11206029 0.11190584 0.11175162 0.1115976  0.1114438  0.11129021\n",
      " 0.11113684 0.11098367 0.11083072 0.11067798 0.11052544 0.11037312\n",
      " 0.11022101 0.11006911 0.10991742 0.10976594 0.10961467 0.1094636\n",
      " 0.10931275 0.1091621  0.10901166 0.10886143 0.10871141 0.10856159\n",
      " 0.10841198 0.10826257 0.10811338 0.10796439 0.1078156  0.10766702\n",
      " 0.10751864 0.10737047 0.1072225  0.10707474 0.10692718 0.10677983\n",
      " 0.10663267 0.10648572 0.10633898 0.10619243 0.10604609 0.10589995\n",
      " 0.10575401 0.10560828 0.10546274 0.1053174  0.10517227 0.10502733\n",
      " 0.1048826  0.10473806 0.10459373 0.10444959 0.10430565 0.10416191\n",
      " 0.10401837 0.10387503 0.10373188 0.10358893 0.10344618 0.10330362\n",
      " 0.10316127 0.1030191  0.10287714 0.10273537 0.10259379 0.10245241\n",
      " 0.10231123 0.10217024 0.10202944 0.10188884 0.10174843 0.10160822\n",
      " 0.1014682  0.10132837 0.10118874 0.10104929 0.10091004 0.10077099\n",
      " 0.10063212 0.10049344 0.10035496 0.10021667 0.10007856 0.09994065\n",
      " 0.09980293 0.0996654  0.09952805 0.0993909  0.09925394 0.09911716\n",
      " 0.09898057 0.09884418 0.09870797 0.09857194 0.09843611 0.09830046\n",
      " 0.098165   0.09802972 0.09789464 0.09775973 0.09762502 0.09749049\n",
      " 0.09735614 0.09722198 0.09708801 0.09695422 0.09682061 0.09668719\n",
      " 0.09655395 0.0964209  0.09628803 0.09615534 0.09602284 0.09589051\n",
      " 0.09575838 0.09562642 0.09549464 0.09536305 0.09523164 0.0951004\n",
      " 0.09496935 0.09483848 0.09470779 0.09457728 0.09444695 0.0943168\n",
      " 0.09418683 0.09405704 0.09392743 0.09379799 0.09366874 0.09353966\n",
      " 0.09341076 0.09328204 0.0931535  0.09302513 0.09289694 0.09276892\n",
      " 0.09264109 0.09251342 0.09238594 0.09225863 0.0921315  0.09200454\n",
      " 0.09187775 0.09175114 0.09162471 0.09149845 0.09137236 0.09124645\n",
      " 0.09112071 0.09099514 0.09086975 0.09074453 0.09061948 0.09049461\n",
      " 0.0903699  0.09024537 0.09012101 0.08999682 0.08987281 0.08974896\n",
      " 0.08962528 0.08950178 0.08937844 0.08925528 0.08913228 0.08900946\n",
      " 0.0888868  0.08876431 0.08864199 0.08851984 0.08839786 0.08827605\n",
      " 0.0881544  0.08803292 0.08791161 0.08779047 0.08766949 0.08754868\n",
      " 0.08742804 0.08730756 0.08718725 0.08706711 0.08694713 0.08682731\n",
      " 0.08670766 0.08658818 0.08646886 0.0863497  0.08623071 0.08611188\n",
      " 0.08599322 0.08587472 0.08575638 0.08563821 0.0855202  0.08540235\n",
      " 0.08528466 0.08516714 0.08504978 0.08493258 0.08481554 0.08469866\n",
      " 0.08458195 0.08446539 0.084349   0.08423276 0.08411669 0.08400078\n",
      " 0.08388502 0.08376943 0.08365399 0.08353871 0.0834236  0.08330864\n",
      " 0.08319384 0.08307919 0.08296471 0.08285038 0.08273621 0.0826222\n",
      " 0.08250835 0.08239465 0.08228111 0.08216772 0.0820545  0.08194142\n",
      " 0.08182851 0.08171575 0.08160314 0.08149069 0.0813784  0.08126625\n",
      " 0.08115427 0.08104244 0.08093076 0.08081924 0.08070786 0.08059665\n",
      " 0.08048558 0.08037467 0.08026392 0.08015331 0.08004286 0.07993256\n",
      " 0.07982241 0.07971241 0.07960257 0.07949288 0.07938333 0.07927394\n",
      " 0.0791647  0.07905561 0.07894667 0.07883788 0.07872924 0.07862075\n",
      " 0.07851241 0.07840422 0.07829618 0.07818829 0.07808054 0.07797294\n",
      " 0.0778655  0.0777582  0.07765105 0.07754404 0.07743718 0.07733047\n",
      " 0.07722391 0.0771175  0.07701123 0.0769051  0.07679913 0.0766933\n",
      " 0.07658761 0.07648207 0.07637668 0.07627143 0.07616633 0.07606137\n",
      " 0.07595656 0.07585189 0.07574736 0.07564298 0.07553875 0.07543465\n",
      " 0.0753307  0.0752269  0.07512323 0.07501971 0.07491633 0.0748131\n",
      " 0.07471    0.07460705 0.07450424 0.07440157 0.07429905 0.07419666\n",
      " 0.07409442 0.07399232 0.07389035 0.07378853 0.07368685 0.07358531\n",
      " 0.07348391 0.07338264 0.07328152 0.07318054 0.0730797  0.07297899\n",
      " 0.07287842 0.072778   0.07267771 0.07257756 0.07247754 0.07237767\n",
      " 0.07227793 0.07217833 0.07207887 0.07197954 0.07188035 0.0717813\n",
      " 0.07168239 0.07158361 0.07148496 0.07138646 0.07128808 0.07118985\n",
      " 0.07109175 0.07099378 0.07089595 0.07079826 0.0707007  0.07060327\n",
      " 0.07050598 0.07040882 0.07031179 0.0702149  0.07011815 0.07002152\n",
      " 0.06992503 0.06982867 0.06973245 0.06963636 0.0695404  0.06944457\n",
      " 0.06934887 0.06925331 0.06915788 0.06906258 0.06896741 0.06887237\n",
      " 0.06877746 0.06868269 0.06858804 0.06849353 0.06839914 0.06830489\n",
      " 0.06821076 0.06811676 0.0680229  0.06792916 0.06783555 0.06774208\n",
      " 0.06764873 0.06755551 0.06746241 0.06736945 0.06727661 0.06718391\n",
      " 0.06709132 0.06699887 0.06690655 0.06681435 0.06672228 0.06663033\n",
      " 0.06653852 0.06644682 0.06635526 0.06626382 0.06617251 0.06608132\n",
      " 0.06599026 0.06589933 0.06580852 0.06571783 0.06562727 0.06553683\n",
      " 0.06544652 0.06535634 0.06526628 0.06517634 0.06508652 0.06499683\n",
      " 0.06490727 0.06481782 0.0647285  0.06463931 0.06455023 0.06446128\n",
      " 0.06437245 0.06428375 0.06419516 0.0641067  0.06401836 0.06393014\n",
      " 0.06384205 0.06375407 0.06366622 0.06357849 0.06349087 0.06340338\n",
      " 0.06331601 0.06322876 0.06314163 0.06305462 0.06296773 0.06288096\n",
      " 0.06279431 0.06270778 0.06262137 0.06253507 0.0624489  0.06236284\n",
      " 0.06227691 0.06219109 0.06210539 0.0620198  0.06193434 0.06184899\n",
      " 0.06176377 0.06167865 0.06159366 0.06150878 0.06142402 0.06133938\n",
      " 0.06125485 0.06117044 0.06108615 0.06100197]\n"
     ]
    }
   ]
  },
  {
   "cell_type": "markdown",
   "source": [
    "最后，我们可以使用我们拟合的参数计算训练模型的代价函数（误差）。"
   ],
   "metadata": {
    "collapsed": false
   }
  },
  {
   "cell_type": "code",
   "execution_count": 38,
   "outputs": [
    {
     "name": "stdout",
     "output_type": "stream",
     "text": [
      "训练后的代价值: 0.06100197196403416\n"
     ]
    }
   ],
   "source": [
    "const = compute_cost(X, y, g)\n",
    "print('训练后的代价值:', const)"
   ],
   "metadata": {
    "collapsed": false,
    "pycharm": {
     "name": "#%%\n"
    }
   }
  },
  {
   "cell_type": "markdown",
   "source": [
    "现在我们来绘制线性模型以及数据，直观地看出它的拟合。"
   ],
   "metadata": {
    "collapsed": false
   }
  },
  {
   "cell_type": "code",
   "execution_count": 39,
   "outputs": [
    {
     "data": {
      "text/plain": "<Figure size 864x576 with 1 Axes>",
      "image/png": "[encoded data removed]"
     },
     "metadata": {
      "needs_background": "light"
     },
     "output_type": "display_data"
    }
   ],
   "source": [
    "x = np.linspace(data['X'].min(), data['Y'].max(), 100)\n",
    "f = g[0, 0] + (g[0, 1] * x)\n",
    "\n",
    "fig, ax = plt.subplots(figsize=(12, 8))\n",
    "ax.plot(x, f, 'r', label='预测值')\n",
    "ax.scatter(data['X'], data['Y'], label='训练数据')\n",
    "ax.legend(loc=2)\n",
    "ax.set_xlabel('X', fontsize=18)\n",
    "ax.set_ylabel('Y', rotation=0, fontsize=18)\n",
    "ax.set_title('预测收益和人口规模', fontsize=18)\n",
    "plt.show()"
   ],
   "metadata": {
    "collapsed": false,
    "pycharm": {
     "name": "#%%\n"
    }
   }
  },
  {
   "cell_type": "markdown",
   "source": [
    "由于梯度方程式函数也在每个训练迭代中输出一个代价的向量，所以我们也可以绘制。 请注意，代价总是降低 - 这是凸优化问题的一个例子。"
   ],
   "metadata": {
    "collapsed": false
   }
  },
  {
   "cell_type": "code",
   "execution_count": 40,
   "outputs": [
    {
     "data": {
      "text/plain": "<Figure size 864x576 with 1 Axes>",
      "image/png": "[encoded data removed]"
     },
     "metadata": {
      "needs_background": "light"
     },
     "output_type": "display_data"
    }
   ],
   "source": [
    "fig, ax = plt.subplots(figsize=(12, 8))\n",
    "ax.plot(np.arange(iters), cost, 'r')\n",
    "ax.set_xlabel('迭代次数', fontsize=18)\n",
    "ax.set_ylabel('代价', rotation=0, fontsize=18)\n",
    "ax.set_title('误差和训练Epoch数', fontsize=18)\n",
    "plt.show()\n"
   ],
   "metadata": {
    "collapsed": false,
    "pycharm": {
     "name": "#%%\n"
    }
   }
  },
  {
   "cell_type": "markdown",
   "source": [
    "## 使用scikit-learn的线性回归函数"
   ],
   "metadata": {
    "collapsed": false,
    "pycharm": {
     "name": "#%% md\n"
    }
   }
  },
  {
   "cell_type": "code",
   "execution_count": 44,
   "outputs": [
    {
     "name": "stdout",
     "output_type": "stream",
     "text": [
      "[[0. 3.]]\n"
     ]
    }
   ],
   "source": [
    "from sklearn.linear_model import LinearRegression\n",
    "model = LinearRegression()\n",
    "model.fit(X, y)\n",
    "print(model.coef_)"
   ],
   "metadata": {
    "collapsed": false,
    "pycharm": {
     "name": "#%%\n"
    }
   }
  },
  {
   "cell_type": "code",
   "execution_count": 43,
   "outputs": [
    {
     "data": {
      "text/plain": "<Figure size 864x576 with 1 Axes>",
      "image/png": "[encoded data removed]"
     },
     "metadata": {
      "needs_background": "light"
     },
     "output_type": "display_data"
    }
   ],
   "source": [
    "x = np.array(X[:, 1].A1)\n",
    "f = model.predict(X).flatten()\n",
    "\n",
    "fig, ax = plt.subplots(figsize=(12, 8))\n",
    "ax.plot(x, f, 'r', label='预测值')\n",
    "ax.scatter(data['X'], data['Y'], label='训练数据')\n",
    "ax.legend(loc=2, fontsize=18)\n",
    "ax.set_xlabel('X', fontsize=18)\n",
    "ax.set_ylabel('X', rotation=0, fontsize=18)\n",
    "ax.set_title('预测曲线', fontsize=18)\n",
    "plt.show()"
   ],
   "metadata": {
    "collapsed": false,
    "pycharm": {
     "name": "#%%\n"
    }
   }
  },
  {
   "cell_type": "markdown",
   "source": [
    "## $L_2$正则化\n",
    "$J (  { w } ) = \\frac { 1 } { 2 } \\sum _ { i = 1 } ^ { m } ( h _ { w} ( x ^ { ( i ) } ) - y ^ { ( i ) } ) ^ { 2 } + \\lambda \\sum _ { j = 1 } ^ { n } w_ { j } ^ { 2 }$，此时称作`Ridge Regression`："
   ],
   "metadata": {
    "collapsed": false
   }
  },
  {
   "cell_type": "code",
   "execution_count": 46,
   "outputs": [
    {
     "name": "stdout",
     "output_type": "stream",
     "text": [
      "[[0.         2.69110631]]\n"
     ]
    }
   ],
   "source": [
    "from sklearn.linear_model import Ridge\n",
    "model = Ridge()\n",
    "model.fit(X, y)\n",
    "print('模型参数', model.coef_)"
   ],
   "metadata": {
    "collapsed": false,
    "pycharm": {
     "name": "#%%\n"
    }
   }
  },
  {
   "cell_type": "code",
   "execution_count": 47,
   "outputs": [
    {
     "data": {
      "text/plain": "<Figure size 864x576 with 1 Axes>",
      "image/png": "[encoded data removed]"
     },
     "metadata": {
      "needs_background": "light"
     },
     "output_type": "display_data"
    }
   ],
   "source": [
    "x2 = np.array(X[:, 1].A1)\n",
    "f2 = model.predict(X).flatten()\n",
    "\n",
    "fig, ax = plt.subplots(figsize=(12, 8))\n",
    "ax.plot(x2, f2, 'r', label='预测值Ridge')\n",
    "ax.scatter(data['X'], data['Y'], label='训练数据')\n",
    "ax.legend(loc=2, fontsize=18)\n",
    "ax.set_xlabel('X', fontsize=18)\n",
    "ax.set_ylabel('X', rotation=0, fontsize=18)\n",
    "plt.show()"
   ],
   "metadata": {
    "collapsed": false,
    "pycharm": {
     "name": "#%%\n"
    }
   }
  },
  {
   "cell_type": "markdown",
   "source": [
    "## $L_1$正则化：\n",
    "$J (  {w } ) = \\frac { 1 } { 2 } \\sum _ { i = 1 } ^ { m } ( h _ { w} ( x ^ { ( i ) } ) - y ^ { ( i ) } ) ^ { 2 } + \\lambda \\sum _ { j = 1 } ^ { n } | w _ { j } |$，此时称作`Lasso Regression`"
   ],
   "metadata": {
    "collapsed": false
   }
  },
  {
   "cell_type": "code",
   "execution_count": 50,
   "outputs": [
    {
     "name": "stdout",
     "output_type": "stream",
     "text": [
      "模型参数 [0. 0.]\n"
     ]
    }
   ],
   "source": [
    "from sklearn.linear_model import Lasso\n",
    "model = Lasso()\n",
    "model.fit(X, y)\n",
    "print('模型参数', model.coef_)"
   ],
   "metadata": {
    "collapsed": false,
    "pycharm": {
     "name": "#%%\n"
    }
   }
  },
  {
   "cell_type": "code",
   "execution_count": 51,
   "outputs": [
    {
     "data": {
      "text/plain": "<Figure size 864x576 with 1 Axes>",
      "image/png": "[encoded data removed]"
     },
     "metadata": {
      "needs_background": "light"
     },
     "output_type": "display_data"
    }
   ],
   "source": [
    "x3 = np.array(X[:, 1].A1)\n",
    "f3 = model.predict(X).flatten()\n",
    "\n",
    "fig, ax = plt.subplots(figsize=(12, 8))\n",
    "ax.plot(x3, f3, 'r', label='预测值Ridge')\n",
    "ax.scatter(data['X'], data['Y'], label='训练数据')\n",
    "ax.legend(loc=2, fontsize=18)\n",
    "ax.set_xlabel('X', fontsize=18)\n",
    "ax.set_ylabel('X', rotation=0, fontsize=18)\n",
    "plt.show()\n"
   ],
   "metadata": {
    "collapsed": false,
    "pycharm": {
     "name": "#%%\n"
    }
   }
  },
  {
   "cell_type": "markdown",
   "source": [
    "## 最小二乘法(LSM)：\n",
    "\n",
    "最小二乘法的需要求解最优参数$w^{*}$：\n",
    "\n",
    "已知：目标函数\n",
    "\n",
    "$J\\left( w  \\right)=\\frac{1}{2m}\\sum\\limits_{i=1}^{m}{{{\\left( {h}\\left( {x^{(i)}} \\right)-{y^{(i)}} \\right)}^{2}}}$\n",
    "\n",
    "其中：${h}\\left( x \\right)={w^{T}}X={w_{0}}{x_{0}}+{w_{1}}{x_{1}}+{w_{2}}{x_{2}}+...+{w_{n}}{x_{n}}$\n",
    "\n",
    "将向量表达形式转为矩阵表达形式，则有$J(w )=\\frac{1}{2}{{\\left( Xw -y\\right)}^{2}}$ ，其中$X$为$m$行$n+1$列的矩阵（$m$为样本个数，$n$为特征个数），$w$为$n+1$行1列的矩阵(包含了$w_0$)，$y$为$m$行1列的矩阵，则可以求得最优参数$w^{*} ={{\\left( {X^{T}}X \\right)}^{-1}}{X^{T}}y$\n",
    "\n",
    "梯度下降与最小二乘法的比较：\n",
    "\n",
    "梯度下降：需要选择学习率$\\alpha$，需要多次迭代，当特征数量$n$大时也能较好适用，适用于各种类型的模型\n",
    "\n",
    "最小二乘法：不需要选择学习率$\\alpha$，一次计算得出，需要计算${{\\left( {{X}^{T}}X \\right)}^{-1}}$，如果特征数量$n$较大则运算代价大，因为矩阵逆的计算时间复杂度为$O(n^3)$，通常来说当$n$小于10000 时还是可以接受的，只适用于线性模型，不适合逻辑回归模型等其他模型"
   ],
   "metadata": {
    "collapsed": false
   }
  },
  {
   "cell_type": "code",
   "execution_count": 52,
   "outputs": [],
   "source": [
    "def LSM(X, y):\n",
    "    w = np.linalg.inv(X.T@X)@X.T@y#X.T@X等价于X.T.dot(X)\n",
    "    return w"
   ],
   "metadata": {
    "collapsed": false,
    "pycharm": {
     "name": "#%%\n"
    }
   }
  },
  {
   "cell_type": "code",
   "execution_count": 53,
   "outputs": [
    {
     "data": {
      "text/plain": "matrix([[-0.00679208],\n        [ 3.        ]])"
     },
     "execution_count": 53,
     "metadata": {},
     "output_type": "execute_result"
    }
   ],
   "source": [
    "final_w2=LSM(X, y)\n",
    "#感觉和批量梯度下降的theta的值有点差距\n",
    "final_w2"
   ],
   "metadata": {
    "collapsed": false,
    "pycharm": {
     "name": "#%%\n"
    }
   }
  },
  {
   "cell_type": "code",
   "execution_count": null,
   "outputs": [],
   "source": [
    "#梯度下降得到的结果是 matrix([[-3.24140214,  1.1272942 ]])"
   ],
   "metadata": {
    "collapsed": false,
    "pycharm": {
     "name": "#%%\n"
    }
   }
  },
  {
   "cell_type": "markdown",
   "source": [
    "## 使用Pytorch 完成线性回归\n",
    "> 线性回归就是一个不加激活函数的全连接层"
   ],
   "metadata": {
    "collapsed": false
   }
  },
  {
   "cell_type": "code",
   "execution_count": null,
   "outputs": [],
   "source": [
    "# 准备数据\n",
    "import numpy as np\n",
    "x_train = np.random.random((11,1))\n",
    "y_train = x_train * 3 + (np.random.random((11,1)) -0.5) * 0.001\n",
    "x_train = np.array(x_train,dtype=np.float32)\n",
    "y_train = np.array(y_train,dtype=np.float32)\n",
    "# x_train.dtype = np.float32\n",
    "\n",
    "print(x_train.dtype, x_train)\n",
    "print(y_train.dtype, y_train)"
   ],
   "metadata": {
    "collapsed": false,
    "pycharm": {
     "name": "#%%\n"
    }
   }
  },
  {
   "cell_type": "code",
   "execution_count": null,
   "outputs": [],
   "source": [
    "import torch\n",
    "import torch.nn as nn"
   ],
   "metadata": {
    "collapsed": false,
    "pycharm": {
     "name": "#%%\n"
    }
   }
  },
  {
   "cell_type": "code",
   "execution_count": null,
   "outputs": [],
   "source": [
    "class LinearRegressionNet(nn.Module):\n",
    "    def __init__(self,input_dim, output_dim):\n",
    "        super(LinearRegressionNet, self).__init__()\n",
    "        self.linear = nn.Linear(input_dim, output_dim)\n",
    "    def forward(self,x):\n",
    "        x = self.linear(x)\n",
    "        return x\n"
   ],
   "metadata": {
    "collapsed": false,
    "pycharm": {
     "name": "#%%\n"
    }
   }
  },
  {
   "cell_type": "code",
   "execution_count": null,
   "outputs": [],
   "source": [
    "net = LinearRegressionNet(1, 1)\n",
    "print(net)\n"
   ],
   "metadata": {
    "collapsed": false,
    "pycharm": {
     "name": "#%%\n"
    }
   }
  },
  {
   "cell_type": "code",
   "execution_count": null,
   "outputs": [],
   "source": [
    "epochs = 1000\n",
    "lr = 0.01\n",
    "optimizer = torch.optim.SGD(net.parameters(), lr=lr)\n",
    "criterion = nn.MSELoss() # 使用MSE损失函数\n",
    "\n",
    "for epoch in range(epochs):\n",
    "    inputs = torch.from_numpy(x_train)\n",
    "    labels = torch.from_numpy(y_train)\n",
    "    optimizer.zero_grad() # 梯度清0\n",
    "    output = net(inputs)\n",
    "    loss = criterion(output,labels)\n",
    "    loss.backward() # 反向传播\n",
    "    optimizer.step() # 更新权重 (基于学习率和梯度)\n",
    "    if epoch % 50 == 0:\n",
    "        print(f'epoch:{epoch}, loss:{loss.item()}')\n"
   ],
   "metadata": {
    "collapsed": false,
    "pycharm": {
     "name": "#%%\n"
    }
   }
  },
  {
   "cell_type": "code",
   "execution_count": null,
   "outputs": [],
   "source": [
    "# 预测\n",
    "test_data = torch.from_numpy(x_train).requires_grad_()\n",
    "print(test_data)\n",
    "pred = net(test_data).data.numpy()\n",
    "print(pred)\n"
   ],
   "metadata": {
    "collapsed": false,
    "pycharm": {
     "name": "#%%\n"
    }
   }
  },
  {
   "cell_type": "code",
   "execution_count": null,
   "outputs": [],
   "source": [
    "# 使用GPU训练\n",
    "device = torch.device('cuda:0' if torch.cuda.is_available() else 'cpu')\n",
    "net.to(device) # 模型传入gpu\n",
    "# 数据传入\n",
    "inputs = torch.from_numpy(x_train).to(device)\n",
    "labels = torch.from_numpy(y_train).to(device)"
   ],
   "metadata": {
    "collapsed": false,
    "pycharm": {
     "name": "#%%\n"
    }
   }
  }
 ],
 "metadata": {
  "kernelspec": {
   "display_name": "Python 3",
   "language": "python",
   "name": "python3"
  },
  "language_info": {
   "codemirror_mode": {
    "name": "ipython",
    "version": 2
   },
   "file_extension": ".py",
   "mimetype": "text/x-python",
   "name": "python",
   "nbconvert_exporter": "python",
   "pygments_lexer": "ipython2",
   "version": "2.7.6"
  }
 },
 "nbformat": 4,
 "nbformat_minor": 0
}