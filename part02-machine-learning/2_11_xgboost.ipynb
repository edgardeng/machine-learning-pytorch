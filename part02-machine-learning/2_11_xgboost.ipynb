{
 "cells": [
  {
   "cell_type": "markdown",
   "metadata": {
    "collapsed": true,
    "pycharm": {
     "name": "#%% md\n"
    }
   },
   "source": [
    "# XGBoost模型\n",
    "\n",
    "XGBoost 是 eXtreme Gradient Boosting 极度梯度提升树 的缩写称呼. 是boosting算法的一种实现方式\n",
    "\n",
    "\n",
    "XGBoost 在并行计算效率、缺失值处理、控制过拟合、预测泛化能力上都变现非常优秀。\n",
    ">参考\n",
    "> *  [图解机器学习 | XGBoost模型详解](https://www.showmeai.tech/article-detail/194)\n",
    "\n",
    "\n",
    "## 监督学习\n",
    "\n",
    "### 监督学习的核心要素\n",
    "\n",
    " * 符号（Notations）： $$ x_i $$ 表示训练集中的第i 个样本。\n",
    "\n",
    " * 模型（Model）：对于已知的 $$ x_i $$  如何预测 $$ \\hat y_i $$  ？\n",
    "\n",
    " * 线性模型（Linear Model）$$ \\hat y_i = \\sum w_j x_{ij}  $$   （包括线性回归和逻辑回归），预测值根据不同的任务有不同的解释：\n",
    "\n",
    "   * 线性回归（Linear Regression）：$$ \\hat y_i $$  表示预测的分数。\n",
    "\n",
    "   * 逻辑回归（Logistic Regression）： $$ 1/ ( 1+ e^ {-\\hat y_i}) $$ 预测了实例为正的概率。\n",
    "\n",
    " * 参数（Parameters）：需要从数据中学习的东西。\n",
    "    * 线性模型（Linear Model）： $$ \\theta = \\{ w_j|j = 1,2,... \\} $$\n",
    "\n",
    "\n",
    " * 目标函数（Objective function） $$ Obj(\\theta)  = L(\\theta) + \\Omega(\\theta) $$\n",
    "\n",
    "  *  L(\\theta) 代表训练损失函数（Training Loss），表示模型多好的拟合了训练数据。\n",
    "\n",
    "  *  \\Omega(\\theta) 为正则化项（Regularization）衡量了模型的复杂程度。\n",
    "\n"
   ]
  },
  {
   "cell_type": "markdown",
   "source": [
    "### 对比\n",
    "\n",
    "| - | GBDT | XGBoost |\n",
    "| ----- | ----- | ----- |\n",
    "| - |机器学习算法|增加工程实现方面的优化|\n",
    "| - |使用的是损失函数一阶导数，相当于函数空间中的梯度下降| 使用了损失函数二阶导数，相当于函数空间中的牛顿法。|\n",
    "|正则化：| -|XGBoost 显式地加入了正则项来控制模型的复杂度，能有效防止过拟合。|\n",
    "|列采样：| -|XGBoost 采用了随机森林中的做法，每次节点分裂前进行列随机采样。|\n",
    "|缺失值：| -|XGBoost 运用稀疏感知策略处理缺失值，GBDT无缺失值处理策略。|\n",
    "|并行高效：| -|XGBoost 的列块设计能有效支持并行运算，效率更优。|\n"
   ],
   "metadata": {
    "collapsed": false,
    "pycharm": {
     "name": "#%% md\n"
    }
   }
  },
  {
   "cell_type": "code",
   "execution_count": 2,
   "outputs": [
    {
     "ename": "ModuleNotFoundError",
     "evalue": "No module named 'xgboost'",
     "output_type": "error",
     "traceback": [
      "\u001B[1;31m---------------------------------------------------------------------------\u001B[0m",
      "\u001B[1;31mModuleNotFoundError\u001B[0m                       Traceback (most recent call last)",
      "\u001B[1;32m~\\AppData\\Local\\Temp/ipykernel_2860/3515336424.py\u001B[0m in \u001B[0;36m<module>\u001B[1;34m\u001B[0m\n\u001B[0;32m      1\u001B[0m \u001B[1;32mfrom\u001B[0m \u001B[0msklearn\u001B[0m\u001B[1;33m.\u001B[0m\u001B[0mmodel_selection\u001B[0m \u001B[1;32mimport\u001B[0m \u001B[0mGridSearchCV\u001B[0m\u001B[1;33m\u001B[0m\u001B[1;33m\u001B[0m\u001B[0m\n\u001B[0;32m      2\u001B[0m \u001B[1;32mfrom\u001B[0m \u001B[0msklearn\u001B[0m\u001B[1;33m.\u001B[0m\u001B[0mdatasets\u001B[0m \u001B[1;32mimport\u001B[0m \u001B[0mfetch_california_housing\u001B[0m\u001B[1;33m\u001B[0m\u001B[1;33m\u001B[0m\u001B[0m\n\u001B[1;32m----> 3\u001B[1;33m \u001B[1;32mimport\u001B[0m \u001B[0mxgboost\u001B[0m \u001B[1;32mas\u001B[0m \u001B[0mxgb\u001B[0m\u001B[1;33m\u001B[0m\u001B[1;33m\u001B[0m\u001B[0m\n\u001B[0m\u001B[0;32m      4\u001B[0m \u001B[1;32mimport\u001B[0m \u001B[0mmultiprocessing\u001B[0m\u001B[1;33m\u001B[0m\u001B[1;33m\u001B[0m\u001B[0m\n\u001B[0;32m      5\u001B[0m \u001B[1;33m\u001B[0m\u001B[0m\n",
      "\u001B[1;31mModuleNotFoundError\u001B[0m: No module named 'xgboost'"
     ]
    }
   ],
   "source": [
    "from sklearn.model_selection import GridSearchCV\n",
    "from sklearn.datasets import fetch_california_housing\n",
    "import xgboost as xgb\n",
    "import multiprocessing\n",
    "\n",
    "X, y = fetch_california_housing(return_X_y=True)\n",
    "xgb_model = xgb.XGBRegressor(n_jobs=multiprocessing.cpu_count() // 2)\n",
    "clf = GridSearchCV(xgb_model, {'max_depth': [2, 4, 6],\n",
    "                                'n_estimators': [50, 100, 200]}, verbose=1, n_jobs=2)\n",
    "clf.fit(X, y)\n",
    "print(clf.best_score_)\n",
    "print(clf.best_params_)\n"
   ],
   "metadata": {
    "collapsed": false,
    "pycharm": {
     "name": "#%%\n"
    }
   }
  }
 ],
 "metadata": {
  "kernelspec": {
   "display_name": "Python 3",
   "language": "python",
   "name": "python3"
  },
  "language_info": {
   "codemirror_mode": {
    "name": "ipython",
    "version": 2
   },
   "file_extension": ".py",
   "mimetype": "text/x-python",
   "name": "python",
   "nbconvert_exporter": "python",
   "pygments_lexer": "ipython2",
   "version": "2.7.6"
  }
 },
 "nbformat": 4,
 "nbformat_minor": 0
}