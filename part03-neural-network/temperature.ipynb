{
 "cells": [
  {
   "cell_type": "markdown",
   "metadata": {
    "collapsed": true,
    "pycharm": {
     "name": "#%% md\n"
    }
   },
   "source": [
    "# 使用Pytorch 搭建神经网络进实现气温预测\n"
   ]
  },
  {
   "cell_type": "code",
   "execution_count": 7,
   "outputs": [],
   "source": [
    "import numpy as np\n",
    "import pandas as pd\n",
    "import matplotlib.pyplot as plt\n",
    "import torch\n",
    "import torch.optim as optim\n",
    "import warnings\n",
    "\n",
    "warnings.filterwarnings('ignore')\n",
    "%matplotlib inline"
   ],
   "metadata": {
    "collapsed": false,
    "pycharm": {
     "name": "#%%\n"
    }
   }
  },
  {
   "cell_type": "code",
   "execution_count": 4,
   "outputs": [
    {
     "name": "stdout",
     "output_type": "stream",
     "text": [
      "       Date  Temperature(Celsius)(high)  Temperature(Celsius)(avg)  \\\n",
      "0  2014-1-1                          12                          4   \n",
      "1  2014-1-2                           7                          0   \n",
      "2  2014-1-3                           9                          3   \n",
      "3  2014-1-4                           2                         -2   \n",
      "4  2014-1-5                           7                          0   \n",
      "\n",
      "   Temperature(Celsius)(low)  Dew Point(Celsius)(high)  \\\n",
      "0                         -2                       -12   \n",
      "1                         -6                        -6   \n",
      "2                         -2                        -7   \n",
      "3                         -6                        -4   \n",
      "4                         -7                        -5   \n",
      "\n",
      "   Dew Point(Celsius)(avg)  Dew Point(Celsius)(low)  Humidity(%)(high)  \\\n",
      "0                      -17                      -20                 44   \n",
      "1                       -9                      -13                 74   \n",
      "2                      -13                      -18                 64   \n",
      "3                       -7                       -9                 80   \n",
      "4                      -11                      -15                 80   \n",
      "\n",
      "   Humidity(%)(avg)  Humidity(%)(low)  ...  Visibility(km)(high)  \\\n",
      "0                19                 7  ...                    31   \n",
      "1                50                28  ...                    18   \n",
      "2                32                 9  ...                    31   \n",
      "3                68                44  ...                    10   \n",
      "4                51                15  ...                    31   \n",
      "\n",
      "   Visibility(km)(avg)  Visibility(km)(low)  Wind(km/h)(high)  \\\n",
      "0                   11                    5                32   \n",
      "1                    7                    3                18   \n",
      "2                   13                    5                18   \n",
      "3                    5                    2                11   \n",
      "4                    7                    3                18   \n",
      "\n",
      "   Wind(km/h)(avg)  Precipitation(mm)(high)  Precipitation(mm)(sum)  weather1  \\\n",
      "0               16                       47                     0.0       NaN   \n",
      "1                5                        -                     0.0       NaN   \n",
      "2                8                        -                     0.0       NaN   \n",
      "3                5                        -                     0.0       NaN   \n",
      "4               10                        -                     0.0       NaN   \n",
      "\n",
      "  weather2  weather3  \n",
      "0      NaN       NaN  \n",
      "1      NaN       NaN  \n",
      "2      NaN       NaN  \n",
      "3      NaN       NaN  \n",
      "4      NaN       NaN  \n",
      "\n",
      "[5 rows x 23 columns]\n",
      "(365, 23)\n"
     ]
    },
    {
     "data": {
      "text/plain": "       Temperature(Celsius)(high)  Temperature(Celsius)(avg)  \\\ncount                  365.000000                 365.000000   \nmean                    19.523288                  13.364384   \nstd                     11.249060                  10.937703   \nmin                     -2.000000                  -7.000000   \n25%                      9.000000                   3.000000   \n50%                     22.000000                  14.000000   \n75%                     30.000000                  23.000000   \nmax                     42.000000                  31.000000   \n\n       Temperature(Celsius)(low)  Dew Point(Celsius)(high)  \\\ncount                 365.000000                365.000000   \nmean                    7.542466                  6.580822   \nstd                    11.032742                 12.328479   \nmin                   -13.000000                -24.000000   \n25%                    -3.000000                 -4.000000   \n50%                     9.000000                  9.000000   \n75%                    18.000000                 18.000000   \nmax                    27.000000                 25.000000   \n\n       Dew Point(Celsius)(avg)  Dew Point(Celsius)(low)  Humidity(%)(high)  \\\ncount               365.000000               365.000000         365.000000   \nmean                  2.123288                -2.465753          78.630137   \nstd                  13.762452                15.056015          18.203299   \nmin                 -33.000000               -40.000000          19.000000   \n25%                  -9.000000               -14.000000          69.000000   \n50%                   3.000000                -2.000000          83.000000   \n75%                  15.000000                11.000000          94.000000   \nmax                  24.000000                23.000000         100.000000   \n\n       Humidity(%)(avg)  Humidity(%)(low)  Sea Level Press(hPa's)(high)  \\\ncount        365.000000        365.000000                    365.000000   \nmean          50.753425         23.753425                   1019.536986   \nstd           19.083953         17.474142                     10.026442   \nmin            8.000000          4.000000                   1001.000000   \n25%           37.000000          8.000000                   1010.000000   \n50%           50.000000         20.000000                   1019.000000   \n75%           65.000000         36.000000                   1028.000000   \nmax           93.000000         81.000000                   1039.000000   \n\n       Sea Level Press(hPa's)(avg)  Sea Level Press(hPa's)(low)  \\\ncount                   365.000000                   365.000000   \nmean                   1016.657534                  1013.934247   \nstd                       9.641969                     9.512055   \nmin                     996.000000                   993.000000   \n25%                    1008.000000                  1005.000000   \n50%                    1016.000000                  1014.000000   \n75%                    1025.000000                  1022.000000   \nmax                    1037.000000                  1034.000000   \n\n       Visibility(km)(high)  Visibility(km)(avg)  Visibility(km)(low)  \\\ncount            365.000000           365.000000           365.000000   \nmean              18.073973             9.504110             4.131507   \nstd               10.124907             6.458074             3.993019   \nmin                2.000000             1.000000             0.000000   \n25%                8.000000             5.000000             2.000000   \n50%               18.000000             7.000000             3.000000   \n75%               31.000000            13.000000             6.000000   \nmax               31.000000            31.000000            31.000000   \n\n       Wind(km/h)(high)  Wind(km/h)(avg)  Precipitation(mm)(sum)  \ncount        365.000000       365.000000              365.000000  \nmean          21.961644         8.942466                1.112027  \nstd           10.709894         4.651536                5.510722  \nmin            6.000000         3.000000                0.000000  \n25%           14.000000         6.000000                0.000000  \n50%           18.000000         8.000000                0.000000  \n75%           26.000000        10.000000                0.000000  \nmax           72.000000        34.000000               75.950000  ",
      "text/html": "<div>\n<style scoped>\n    .dataframe tbody tr th:only-of-type {\n        vertical-align: middle;\n    }\n\n    .dataframe tbody tr th {\n        vertical-align: top;\n    }\n\n    .dataframe thead th {\n        text-align: right;\n    }\n</style>\n<table border=\"1\" class=\"dataframe\">\n  <thead>\n    <tr style=\"text-align: right;\">\n      <th></th>\n      <th>Temperature(Celsius)(high)</th>\n      <th>Temperature(Celsius)(avg)</th>\n      <th>Temperature(Celsius)(low)</th>\n      <th>Dew Point(Celsius)(high)</th>\n      <th>Dew Point(Celsius)(avg)</th>\n      <th>Dew Point(Celsius)(low)</th>\n      <th>Humidity(%)(high)</th>\n      <th>Humidity(%)(avg)</th>\n      <th>Humidity(%)(low)</th>\n      <th>Sea Level Press(hPa's)(high)</th>\n      <th>Sea Level Press(hPa's)(avg)</th>\n      <th>Sea Level Press(hPa's)(low)</th>\n      <th>Visibility(km)(high)</th>\n      <th>Visibility(km)(avg)</th>\n      <th>Visibility(km)(low)</th>\n      <th>Wind(km/h)(high)</th>\n      <th>Wind(km/h)(avg)</th>\n      <th>Precipitation(mm)(sum)</th>\n    </tr>\n  </thead>\n  <tbody>\n    <tr>\n      <th>count</th>\n      <td>365.000000</td>\n      <td>365.000000</td>\n      <td>365.000000</td>\n      <td>365.000000</td>\n      <td>365.000000</td>\n      <td>365.000000</td>\n      <td>365.000000</td>\n      <td>365.000000</td>\n      <td>365.000000</td>\n      <td>365.000000</td>\n      <td>365.000000</td>\n      <td>365.000000</td>\n      <td>365.000000</td>\n      <td>365.000000</td>\n      <td>365.000000</td>\n      <td>365.000000</td>\n      <td>365.000000</td>\n      <td>365.000000</td>\n    </tr>\n    <tr>\n      <th>mean</th>\n      <td>19.523288</td>\n      <td>13.364384</td>\n      <td>7.542466</td>\n      <td>6.580822</td>\n      <td>2.123288</td>\n      <td>-2.465753</td>\n      <td>78.630137</td>\n      <td>50.753425</td>\n      <td>23.753425</td>\n      <td>1019.536986</td>\n      <td>1016.657534</td>\n      <td>1013.934247</td>\n      <td>18.073973</td>\n      <td>9.504110</td>\n      <td>4.131507</td>\n      <td>21.961644</td>\n      <td>8.942466</td>\n      <td>1.112027</td>\n    </tr>\n    <tr>\n      <th>std</th>\n      <td>11.249060</td>\n      <td>10.937703</td>\n      <td>11.032742</td>\n      <td>12.328479</td>\n      <td>13.762452</td>\n      <td>15.056015</td>\n      <td>18.203299</td>\n      <td>19.083953</td>\n      <td>17.474142</td>\n      <td>10.026442</td>\n      <td>9.641969</td>\n      <td>9.512055</td>\n      <td>10.124907</td>\n      <td>6.458074</td>\n      <td>3.993019</td>\n      <td>10.709894</td>\n      <td>4.651536</td>\n      <td>5.510722</td>\n    </tr>\n    <tr>\n      <th>min</th>\n      <td>-2.000000</td>\n      <td>-7.000000</td>\n      <td>-13.000000</td>\n      <td>-24.000000</td>\n      <td>-33.000000</td>\n      <td>-40.000000</td>\n      <td>19.000000</td>\n      <td>8.000000</td>\n      <td>4.000000</td>\n      <td>1001.000000</td>\n      <td>996.000000</td>\n      <td>993.000000</td>\n      <td>2.000000</td>\n      <td>1.000000</td>\n      <td>0.000000</td>\n      <td>6.000000</td>\n      <td>3.000000</td>\n      <td>0.000000</td>\n    </tr>\n    <tr>\n      <th>25%</th>\n      <td>9.000000</td>\n      <td>3.000000</td>\n      <td>-3.000000</td>\n      <td>-4.000000</td>\n      <td>-9.000000</td>\n      <td>-14.000000</td>\n      <td>69.000000</td>\n      <td>37.000000</td>\n      <td>8.000000</td>\n      <td>1010.000000</td>\n      <td>1008.000000</td>\n      <td>1005.000000</td>\n      <td>8.000000</td>\n      <td>5.000000</td>\n      <td>2.000000</td>\n      <td>14.000000</td>\n      <td>6.000000</td>\n      <td>0.000000</td>\n    </tr>\n    <tr>\n      <th>50%</th>\n      <td>22.000000</td>\n      <td>14.000000</td>\n      <td>9.000000</td>\n      <td>9.000000</td>\n      <td>3.000000</td>\n      <td>-2.000000</td>\n      <td>83.000000</td>\n      <td>50.000000</td>\n      <td>20.000000</td>\n      <td>1019.000000</td>\n      <td>1016.000000</td>\n      <td>1014.000000</td>\n      <td>18.000000</td>\n      <td>7.000000</td>\n      <td>3.000000</td>\n      <td>18.000000</td>\n      <td>8.000000</td>\n      <td>0.000000</td>\n    </tr>\n    <tr>\n      <th>75%</th>\n      <td>30.000000</td>\n      <td>23.000000</td>\n      <td>18.000000</td>\n      <td>18.000000</td>\n      <td>15.000000</td>\n      <td>11.000000</td>\n      <td>94.000000</td>\n      <td>65.000000</td>\n      <td>36.000000</td>\n      <td>1028.000000</td>\n      <td>1025.000000</td>\n      <td>1022.000000</td>\n      <td>31.000000</td>\n      <td>13.000000</td>\n      <td>6.000000</td>\n      <td>26.000000</td>\n      <td>10.000000</td>\n      <td>0.000000</td>\n    </tr>\n    <tr>\n      <th>max</th>\n      <td>42.000000</td>\n      <td>31.000000</td>\n      <td>27.000000</td>\n      <td>25.000000</td>\n      <td>24.000000</td>\n      <td>23.000000</td>\n      <td>100.000000</td>\n      <td>93.000000</td>\n      <td>81.000000</td>\n      <td>1039.000000</td>\n      <td>1037.000000</td>\n      <td>1034.000000</td>\n      <td>31.000000</td>\n      <td>31.000000</td>\n      <td>31.000000</td>\n      <td>72.000000</td>\n      <td>34.000000</td>\n      <td>75.950000</td>\n    </tr>\n  </tbody>\n</table>\n</div>"
     },
     "execution_count": 4,
     "metadata": {},
     "output_type": "execute_result"
    }
   ],
   "source": [
    "features = pd.read_csv('temps.csv')\n",
    "print(features.head())\n",
    "print(features.shape)\n",
    "features.describe()"
   ],
   "metadata": {
    "collapsed": false,
    "pycharm": {
     "name": "#%%\n"
    }
   }
  },
  {
   "cell_type": "code",
   "execution_count": null,
   "outputs": [],
   "source": [
    "# 时间格式化\n",
    "import datetime\n",
    "\n",
    "years = features['year']\n",
    "months = features['month']\n",
    "days = features['day']\n",
    "\n",
    "dates = [f'{year}-{month}-{day}' for year,month,day in zip(years,months,days)]\n",
    "dates = [datetime.datetime.strptime(date,'%Y-%m-%d') for date in dates]\n"
   ],
   "metadata": {
    "collapsed": false,
    "pycharm": {
     "name": "#%%\n"
    }
   }
  },
  {
   "cell_type": "code",
   "execution_count": 6,
   "outputs": [
    {
     "name": "stdout",
     "output_type": "stream",
     "text": [
      "[datetime.datetime(2014, 1, 1, 0, 0), datetime.datetime(2014, 1, 2, 0, 0), datetime.datetime(2014, 1, 3, 0, 0), datetime.datetime(2014, 1, 4, 0, 0), datetime.datetime(2014, 1, 5, 0, 0)]\n"
     ]
    }
   ],
   "source": [
    "import datetime\n",
    "dates = [datetime.datetime.strptime(date,'%Y-%m-%d') for date in features['Date']]\n",
    "print(dates[:5])"
   ],
   "metadata": {
    "collapsed": false,
    "pycharm": {
     "name": "#%%\n"
    }
   }
  },
  {
   "cell_type": "code",
   "execution_count": 8,
   "outputs": [
    {
     "data": {
      "text/plain": "<Figure size 720x720 with 4 Axes>",
      "image/png": "[encoded data removed]"
     },
     "metadata": {},
     "output_type": "display_data"
    }
   ],
   "source": [
    "# 可视化\n",
    "plt.style.use('fivethirtyeight')\n",
    "fig, ((ax1,ax2),(ax3,ax4)) = plt.subplots(nrows=2,ncols=2,figsize=(10,10))\n",
    "fig.autofmt_xdate(rotation=45)\n",
    "\n",
    "# 标签\n",
    "ax1.plot(dates, features['Temperature(Celsius)(avg)'])\n",
    "ax1.set_xlabel('')\n",
    "ax1.set_ylabel('Temp'); ax1.set_title('Max')\n",
    "\n",
    "plt.tight_layout(pad=2)"
   ],
   "metadata": {
    "collapsed": false,
    "pycharm": {
     "name": "#%%\n"
    }
   }
  },
  {
   "cell_type": "code",
   "execution_count": null,
   "outputs": [],
   "source": [
    "# 独热编码\n",
    "features = pd.get_dummies(features)  # 字符串值 列展开成行\n",
    "print(features.head())\n"
   ],
   "metadata": {
    "collapsed": false,
    "pycharm": {
     "name": "#%%\n"
    }
   }
  },
  {
   "cell_type": "code",
   "execution_count": null,
   "outputs": [],
   "source": [
    "labels = np.array(features['actual'])\n",
    "features = features.drop('actual', axis=1)\n",
    "feature_list = list(features.columns)\n",
    "features = np.array(features)\n",
    "print(features.shape) # 几个特征 ?\n"
   ],
   "metadata": {
    "collapsed": false,
    "pycharm": {
     "name": "#%%\n"
    }
   }
  },
  {
   "cell_type": "code",
   "execution_count": null,
   "outputs": [],
   "source": [
    "# 使用 sklearn 预处理\n",
    "from sklearn import  preprocessing\n",
    "input_feature = preprocessing.StandardScaler().fit_transform(features)\n",
    "print(input_feature[0])\n",
    "# 标准化后更容易收敛"
   ],
   "metadata": {
    "collapsed": false,
    "pycharm": {
     "name": "#%%\n"
    }
   }
  },
  {
   "cell_type": "code",
   "execution_count": 9,
   "outputs": [
    {
     "ename": "NameError",
     "evalue": "name 'input_feature' is not defined",
     "output_type": "error",
     "traceback": [
      "\u001B[1;31m---------------------------------------------------------------------------\u001B[0m",
      "\u001B[1;31mNameError\u001B[0m                                 Traceback (most recent call last)",
      "\u001B[1;32m<ipython-input-9-9d7e58dd918b>\u001B[0m in \u001B[0;36m<module>\u001B[1;34m\u001B[0m\n\u001B[0;32m      1\u001B[0m \u001B[1;31m# 构建神经网络 一种麻烦的方法\u001B[0m\u001B[1;33m\u001B[0m\u001B[1;33m\u001B[0m\u001B[1;33m\u001B[0m\u001B[0m\n\u001B[0;32m      2\u001B[0m \u001B[1;33m\u001B[0m\u001B[0m\n\u001B[1;32m----> 3\u001B[1;33m \u001B[0mx\u001B[0m \u001B[1;33m=\u001B[0m \u001B[0mtorch\u001B[0m\u001B[1;33m.\u001B[0m\u001B[0mtensor\u001B[0m\u001B[1;33m(\u001B[0m\u001B[0minput_feature\u001B[0m\u001B[1;33m,\u001B[0m \u001B[0mdtype\u001B[0m\u001B[1;33m=\u001B[0m\u001B[0mfloat\u001B[0m\u001B[1;33m)\u001B[0m\u001B[1;33m\u001B[0m\u001B[1;33m\u001B[0m\u001B[0m\n\u001B[0m\u001B[0;32m      4\u001B[0m \u001B[0my\u001B[0m \u001B[1;33m=\u001B[0m \u001B[0mtorch\u001B[0m\u001B[1;33m.\u001B[0m\u001B[0mtensor\u001B[0m\u001B[1;33m(\u001B[0m\u001B[0mlabels\u001B[0m\u001B[1;33m,\u001B[0m \u001B[0mdtype\u001B[0m\u001B[1;33m=\u001B[0m\u001B[0mfloat\u001B[0m\u001B[1;33m)\u001B[0m\u001B[1;33m\u001B[0m\u001B[1;33m\u001B[0m\u001B[0m\n\u001B[0;32m      5\u001B[0m \u001B[1;33m\u001B[0m\u001B[0m\n",
      "\u001B[1;31mNameError\u001B[0m: name 'input_feature' is not defined"
     ]
    }
   ],
   "source": [
    "# 构建神经网络 一种麻烦的方法\n",
    "\n",
    "x = torch.tensor(input_feature, dtype=float)\n",
    "y = torch.tensor(labels, dtype=float)\n",
    "\n",
    "# 权重\n",
    "weights = torch.randn((14,128), dtype=float, requires_grad=True) # 随机初始化参数\n",
    "biases = torch.randn(128, dtype=float, requires_grad=True)\n",
    "weights2 = torch.randn((128,1), dtype=float, requires_grad=True)\n",
    "biases2 = torch.randn(1, dtype=float, requires_grad=True)\n",
    "\n",
    "lr = 0.001\n",
    "losses = []\n",
    "epochs = 1000\n",
    "for epoch in range(epochs):\n",
    "    hidden = x.mm(weights) +  biases # 矩阵\n",
    "    hidden = torch.relu(hidden) # 激活函数\n",
    "    pred = hidden.mm(weights2) + biases2\n",
    "\n",
    "    loss = torch.mean((pred - y)**2) # 使用均分误差作为 损失值\n",
    "    if epoch % 100 == 0:\n",
    "        print(epoch, loss)\n",
    "    loss.backward() # 反向传播计算\n",
    "\n",
    "    # 更新参数\n",
    "    weights.data.add_(-lr * weights.grad.data)\n",
    "    biases.data.add_(-lr * weights.grad.data)\n",
    "    weights2.data.add_(-lr * weights2.grad.data)\n",
    "    biases2.data.add_(-lr * biases2.grad.data)\n",
    "    # 清空梯度\n",
    "    weights.grad.zero_()\n",
    "    biases.grad.zero_()\n",
    "    weights2.grad.zero_()\n",
    "    biases2.grad.zero_()\n"
   ],
   "metadata": {
    "collapsed": false,
    "pycharm": {
     "name": "#%%\n"
    }
   }
  },
  {
   "cell_type": "code",
   "execution_count": null,
   "outputs": [],
   "source": [
    "# 构建神经网络 一种麻烦的方法\n",
    "\n",
    "input_size = input_feature.shape[1]\n",
    "hidden_size = 128\n",
    "output_size = 1\n",
    "batch_size = 16\n",
    "net_nn = torch.nn.Sequential(torch.nn.Linear(input_size, hidden_size),\n",
    "                             torch.nn.Sigmoid(),\n",
    "                             torch.nn.Linear(hidden_size, output_size)\n",
    ")\n",
    "\n",
    "# 训练\n",
    "criterion = torch.nn.MSELoss(reduction='mean')\n",
    "optimizer = torch.optim.Adam(net_nn.parameters(), lr =0.001)\n",
    "losses = []\n",
    "epochs = 1000\n",
    "total_size = len(input_feature)\n",
    "for epoch in range(epochs):\n",
    "    for start in range(0, total_size, batch_size):\n",
    "        optimizer.zero_grad() # 梯度清零\n",
    "\n",
    "        end = start + batch_size if start+ batch_size < total_size else total_size\n",
    "        x = torch.tensor(input_feature[start:end],dtype=float, requires_grad=True)\n",
    "        y = torch.tensor(labels[start:end],dtype=float, requires_grad=True)\n",
    "        pred = net_nn(x)\n",
    "        loss = criterion(pred, y)\n",
    "        loss.backward(retain_graph=True)\n",
    "        optimizer.step()\n",
    "        losses.append(loss.data.numpy())\n",
    "\n",
    "    if epoch % 100 == 0:\n",
    "        print(epoch, losses)"
   ],
   "metadata": {
    "collapsed": false,
    "pycharm": {
     "name": "#%%\n"
    }
   }
  },
  {
   "cell_type": "code",
   "execution_count": null,
   "outputs": [],
   "source": [
    "# 预测\n",
    "\n",
    "test_x = torch.tensor(input_feature, dtype=torch.float)\n",
    "pred = net_nn(test_x).data.numpy()"
   ],
   "metadata": {
    "collapsed": false,
    "pycharm": {
     "name": "#%%\n"
    }
   }
  },
  {
   "cell_type": "code",
   "execution_count": null,
   "outputs": [],
   "source": [
    "# 画图\n",
    "true_data = pd.DataFrame(data={'date': dates, 'actual': labels})\n",
    "pred_data = pd.DataFrame(data={'date': dates, 'prediction': pred.reshape(-1)})\n",
    "\n",
    "plt.plot(true_data['date'], true_data['actual'],'b-',label='actual')\n",
    "plt.plot(true_data['date'], true_data['prediction'],'ro',label='prediction')\n",
    "plt.xticks(rotation ='60')\n",
    "plt.legend()\n"
   ],
   "metadata": {
    "collapsed": false,
    "pycharm": {
     "name": "#%%\n"
    }
   }
  }
 ],
 "metadata": {
  "kernelspec": {
   "display_name": "Python 3",
   "language": "python",
   "name": "python3"
  },
  "language_info": {
   "codemirror_mode": {
    "name": "ipython",
    "version": 2
   },
   "file_extension": ".py",
   "mimetype": "text/x-python",
   "name": "python",
   "nbconvert_exporter": "python",
   "pygments_lexer": "ipython2",
   "version": "2.7.6"
  }
 },
 "nbformat": 4,
 "nbformat_minor": 0
}