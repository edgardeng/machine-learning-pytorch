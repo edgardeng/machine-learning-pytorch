{
 "cells": [
  {
   "cell_type": "markdown",
   "metadata": {
    "collapsed": true,
    "pycharm": {
     "name": "#%% md\n"
    }
   },
   "source": [
    "## Pytorch Activation Function 激活函数\n",
    "\n",
    "* Relu\n",
    "\n",
    "* Sigmoid\n",
    "\n",
    "* Tanh\n",
    "\n",
    "* softplus\n",
    "\n",
    "* softmax"
   ]
  },
  {
   "cell_type": "code",
   "source": [
    "import torch\n",
    "import torch.nn.functional as F\n",
    "from torch.autograd import Variable\n",
    "import matplotlib.pyplot as plt"
   ],
   "metadata": {
    "collapsed": false,
    "pycharm": {
     "name": "#%%\n"
    }
   },
   "execution_count": null,
   "outputs": []
  },
  {
   "cell_type": "code",
   "execution_count": null,
   "outputs": [],
   "source": [
    "# fake data\n",
    "x = torch.linspace(-5, 5, 200)   # 使用torch生成500个等差数据\n",
    "x = Variable(x)\n",
    "x_np = x.data.numpy()            # 转换成 np 类型\n",
    "\n",
    "data = {\n",
    "    'relu': F.relu(x).data.numpy(),\n",
    "    'sigmoid': torch.sigmoid(x).data.numpy(),\n",
    "    'tanh': torch.tanh(x).data.numpy(),\n",
    "    'softplus': F.softplus(x).data.numpy(),\n",
    "    'softmax': F.softmax(x).data.numpy()\n",
    "}"
   ],
   "metadata": {
    "collapsed": false,
    "pycharm": {
     "name": "#%%\n"
    }
   }
  },
  {
   "cell_type": "code",
   "execution_count": 12,
   "outputs": [
    {
     "data": {
      "text/plain": "<Figure size 576x432 with 5 Axes>",
      "image/png": "[encoded data removed]"
     },
     "metadata": {
      "needs_background": "light"
     },
     "output_type": "display_data"
    }
   ],
   "source": [
    "keys = list(data.keys())\n",
    "plt.figure(1, figsize=(8, 6))    # 分别绘制折线图\n",
    "nrow = len(keys) // 2 + len(keys) % 2\n",
    "for i,key in enumerate(keys):\n",
    "    plt.subplot(nrow,2, i+1)\n",
    "    plt.plot(x_np, data[key], c='red', label=key)\n",
    "    # plt.ylim((-1, 5))\n",
    "    plt.legend(loc='best')\n",
    "plt.show()\n"
   ],
   "metadata": {
    "collapsed": false,
    "pycharm": {
     "name": "#%%\n"
    }
   }
  },
  {
   "cell_type": "markdown",
   "source": [
    "### 分类问题\n",
    "\n",
    "|分类问题名称\t|输出层使用激活函数\t|对应的损失函数|\n",
    "|:----|:----|:----|\n",
    "|二分类\t|sigmoid函数\t|二分类交叉熵损失函数BCELoss()--不带sigmoid\n",
    "、BCEWithLogitsLoss()--带sigmoid|\n",
    "|多分类\t|softmax函数|\t多类别交叉熵损失函数nn.NLLLoss()--不带LogSoftmax、\n",
    "nn.CrossEntropy()--带LogSoftmax|\n",
    "|多标签分类\t|sigmoid函数\t|二分类交叉熵损失函数\n",
    "BCELoss()、BCEWithLogitsLoss()MultiLabelSoftMarginLoss()|\n",
    "\n",
    "\n",
    "https://zhuanlan.zhihu.com/p/372628727"
   ],
   "metadata": {
    "collapsed": false
   }
  },
  {
   "cell_type": "code",
   "execution_count": 14,
   "outputs": [
    {
     "name": "stdout",
     "output_type": "stream",
     "text": [
      "tensor([[ 0.5545, -0.9585, -0.3273, -0.9355,  0.3033,  0.2809,  0.7884, -0.0440,\n",
      "          0.6760, -1.7179],\n",
      "        [-1.3398, -0.4131,  0.6856, -0.3410,  1.5637, -0.4730, -0.7981, -0.9067,\n",
      "         -0.5728, -0.6046],\n",
      "        [ 0.0170,  1.2865, -0.3690, -1.3579,  0.1657, -1.6883, -1.1429,  1.1850,\n",
      "         -0.5963, -0.7445],\n",
      "        [ 0.5207, -0.2618,  1.5272,  1.0998,  0.6311, -0.9665,  1.5180, -0.4584,\n",
      "         -0.8177,  0.0052],\n",
      "        [ 0.0336,  0.1819, -0.0642,  0.3756,  0.3783, -1.0178, -0.2458,  0.4910,\n",
      "          0.5886,  0.4864],\n",
      "        [ 0.1567, -0.0893,  0.5134,  0.0071, -0.6209, -0.3195, -0.7615, -1.5025,\n",
      "         -0.8795,  0.7883],\n",
      "        [-0.4469,  1.0083, -0.6687, -0.1454,  1.0557, -0.5521, -0.5653, -0.2942,\n",
      "         -2.0837,  0.1605],\n",
      "        [-0.2825, -1.0446,  0.1335,  1.2140, -0.7499,  0.3480, -0.3219,  0.4035,\n",
      "          0.9318, -1.3087],\n",
      "        [-0.5086, -0.5511,  0.2268, -2.2035,  1.3395,  0.0338,  1.0602,  0.1568,\n",
      "         -0.1141,  0.2027],\n",
      "        [ 0.4010, -0.3671,  0.4656,  2.1233, -0.7630, -0.4573,  1.3141, -1.2730,\n",
      "         -0.6676, -0.5803],\n",
      "        [ 0.9503, -0.4700, -1.3609,  0.5725,  1.7818, -0.4722, -1.8885,  0.9476,\n",
      "          0.7985,  0.2835],\n",
      "        [-1.1044,  1.5097, -0.4275,  0.0558,  1.9546, -1.3241,  1.2142,  0.8675,\n",
      "         -0.4437, -0.2445],\n",
      "        [-0.8515, -0.5184,  0.0369,  0.5524,  0.2857, -1.1573,  1.3321, -0.7281,\n",
      "          0.5155, -0.1740],\n",
      "        [ 1.4696, -0.0773,  1.6081, -0.5434, -1.3328,  0.0575,  2.5395, -1.5943,\n",
      "          0.6988,  0.0498],\n",
      "        [-3.0155, -0.2789, -0.8540, -1.6933,  0.3773,  2.5654, -1.0942, -0.2052,\n",
      "         -0.0590,  1.2369],\n",
      "        [-0.5684,  0.6426,  0.2567, -0.1353, -1.5274, -0.8806, -0.0293, -0.6717,\n",
      "         -1.6192,  0.1808]])\n",
      "tensor([1., 1., 1., 1., 1., 1., 1., 1., 0., 0., 0., 0., 0., 0., 0., 0.])\n"
     ]
    }
   ],
   "source": [
    "import torch\n",
    "import torch.nn as nn\n",
    "\n",
    "model = nn.Linear(10, 1)\n",
    "criterion = nn.BCEWithLogitsLoss()\n",
    "\n",
    "x = torch.randn(16, 10)\n",
    "y = torch.empty(16).random_(2)  # (16, )\n",
    "print(x)\n",
    "print(y)"
   ],
   "metadata": {
    "collapsed": false,
    "pycharm": {
     "name": "#%%\n"
    }
   }
  },
  {
   "cell_type": "code",
   "execution_count": 16,
   "outputs": [
    {
     "name": "stdout",
     "output_type": "stream",
     "text": [
      "tensor([ 0.4870,  0.8617, -1.0304,  1.6087, -0.2026,  0.4560,  0.3682,  0.0670,\n",
      "         0.7918,  1.1718, -0.3665,  0.2518,  0.5479,  1.2066, -0.0497, -0.0556],\n",
      "       grad_fn=<SqueezeBackward1>)\n",
      "tensor(0.7871, grad_fn=<BinaryCrossEntropyWithLogitsBackward>)\n"
     ]
    }
   ],
   "source": [
    "out = model(x)  # (16, 1)\n",
    "out = out.squeeze(dim=-1)  # (16, )\n",
    "\n",
    "loss = criterion(out, y)\n",
    "print(out)\n",
    "print(loss)\n"
   ],
   "metadata": {
    "collapsed": false,
    "pycharm": {
     "name": "#%%\n"
    }
   }
  }
 ],
 "metadata": {
  "kernelspec": {
   "display_name": "Python 3",
   "language": "python",
   "name": "python3"
  },
  "language_info": {
   "codemirror_mode": {
    "name": "ipython",
    "version": 2
   },
   "file_extension": ".py",
   "mimetype": "text/x-python",
   "name": "python",
   "nbconvert_exporter": "python",
   "pygments_lexer": "ipython2",
   "version": "2.7.6"
  }
 },
 "nbformat": 4,
 "nbformat_minor": 0
}